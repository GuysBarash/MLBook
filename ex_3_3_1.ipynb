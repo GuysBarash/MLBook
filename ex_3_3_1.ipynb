{
  "nbformat": 4,
  "nbformat_minor": 0,
  "metadata": {
    "kernelspec": {
      "display_name": "Python 3",
      "language": "python",
      "name": "python3"
    },
    "language_info": {
      "codemirror_mode": {
        "name": "ipython",
        "version": 2
      },
      "file_extension": ".py",
      "mimetype": "text/x-python",
      "name": "python",
      "nbconvert_exporter": "python",
      "pygments_lexer": "ipython2",
      "version": "2.7.6"
    },
    "colab": {
      "name": "ex_3_3_1.ipynb",
      "provenance": [],
      "collapsed_sections": [],
      "include_colab_link": true
    }
  },
  "cells": [
    {
      "cell_type": "markdown",
      "metadata": {
        "id": "view-in-github",
        "colab_type": "text"
      },
      "source": [
        "<a href=\"https://colab.research.google.com/github/GuysBarash/MLBook/blob/main/ex_3_3_1.ipynb\" target=\"_parent\"><img src=\"https://colab.research.google.com/assets/colab-badge.svg\" alt=\"Open In Colab\"/></a>"
      ]
    },
    {
      "cell_type": "code",
      "metadata": {
        "collapsed": true,
        "id": "XJLD8Lny7_xt"
      },
      "source": [
        "%matplotlib inline\n",
        "\n",
        "import numpy as np\n",
        "import matplotlib.pyplot as plt\n",
        "from tqdm import tqdm"
      ],
      "execution_count": null,
      "outputs": []
    },
    {
      "cell_type": "markdown",
      "metadata": {
        "id": "cyMauJuj7IgR"
      },
      "source": [
        "#Exercise 3.3.1"
      ]
    },
    {
      "cell_type": "markdown",
      "metadata": {
        "id": "2GPRtIy_8GMK"
      },
      "source": [
        "Parameters of the parabola\n",
        "\n",
        "$f(x) = a*(x^2) + b*x + c$"
      ]
    },
    {
      "cell_type": "code",
      "metadata": {
        "pycharm": {
          "name": "#%%\n"
        },
        "id": "nYXvVlba7_xw"
      },
      "source": [
        "a = 1\n",
        "b = -2\n",
        "c = -3"
      ],
      "execution_count": null,
      "outputs": []
    },
    {
      "cell_type": "code",
      "metadata": {
        "pycharm": {
          "name": "#%%\n"
        },
        "id": "A9rlJRW_7_xw"
      },
      "source": [
        "x_range = -5, 5"
      ],
      "execution_count": null,
      "outputs": []
    },
    {
      "cell_type": "markdown",
      "metadata": {
        "id": "eXgMrbq18Npx"
      },
      "source": [
        "Define the $f$ fuction"
      ]
    },
    {
      "cell_type": "code",
      "metadata": {
        "pycharm": {
          "name": "#%%\n"
        },
        "id": "fCAciN7w7_xx"
      },
      "source": [
        "def f(x):\n",
        "    v = (a * (x ** 2)) + (b * x) + c\n",
        "    return v"
      ],
      "execution_count": null,
      "outputs": []
    },
    {
      "cell_type": "markdown",
      "metadata": {
        "id": "4KVS_j7m0a5d"
      },
      "source": [
        "visualize parabola"
      ]
    },
    {
      "cell_type": "code",
      "metadata": {
        "pycharm": {
          "name": "#%%\n"
        },
        "colab": {
          "base_uri": "https://localhost:8080/",
          "height": 281
        },
        "id": "M2iQzDw77_xy",
        "outputId": "14940dc4-4010-42a8-a6d5-a759735d9a32"
      },
      "source": [
        "Xi = np.arange(x_range[0], x_range[1], 0.01)\n",
        "y = np.array(list(map(f, Xi)))\n",
        "plt.title(f'f(x) = {a:+}(x^2) {b:+}x {c:+}')\n",
        "plt.plot(Xi, y)\n",
        "plt.grid()\n",
        "plt.show()"
      ],
      "execution_count": null,
      "outputs": [
        {
          "output_type": "display_data",
          "data": {
            "image/png": "[encoded data removed]",
            "text/plain": [
              "<Figure size 432x288 with 1 Axes>"
            ]
          },
          "metadata": {
            "needs_background": "light"
          }
        }
      ]
    },
    {
      "cell_type": "markdown",
      "metadata": {
        "id": "1fBETMRB7EWS"
      },
      "source": [
        "Now we fit a Linear regression"
      ]
    },
    {
      "cell_type": "code",
      "metadata": {
        "pycharm": {
          "name": "#%%\n"
        },
        "id": "pX42l6Q27_xz"
      },
      "source": [
        "from sklearn.metrics import mean_squared_error"
      ],
      "execution_count": null,
      "outputs": []
    },
    {
      "cell_type": "code",
      "metadata": {
        "pycharm": {
          "name": "#%%\n"
        },
        "id": "_5jRSTj27_x0"
      },
      "source": [
        "# Generate D (the data, marked as X)\n",
        "D_size = 100  # Number of samples\n",
        "X = np.random.uniform(x_range[0], x_range[1], D_size)\n",
        "y = list(map(f, X))"
      ],
      "execution_count": null,
      "outputs": []
    },
    {
      "cell_type": "markdown",
      "metadata": {
        "id": "YkvGKdNB8ag6"
      },
      "source": [
        "Define $g()$ as the function of the linear regression"
      ]
    },
    {
      "cell_type": "code",
      "metadata": {
        "pycharm": {
          "name": "#%%\n"
        },
        "colab": {
          "base_uri": "https://localhost:8080/"
        },
        "id": "xAMcN63l7_x0",
        "outputId": "2fc0f445-9b0c-49c4-a371-2fa1924fe382"
      },
      "source": [
        "d, e = np.polyfit(X, y, 1)\n",
        "\n",
        "def g(x):\n",
        "    return (d * x) + e\n",
        "\n",
        "\n",
        "print(f\"Model: g(x) = {d:>.3f}x + {e:>.3f}\")"
      ],
      "execution_count": null,
      "outputs": [
        {
          "output_type": "stream",
          "name": "stdout",
          "text": [
            "Model: g(x) = -1.673x + 4.439\n"
          ]
        }
      ]
    },
    {
      "cell_type": "code",
      "metadata": {
        "pycharm": {
          "name": "#%%\n"
        },
        "colab": {
          "base_uri": "https://localhost:8080/"
        },
        "id": "7mxPB00n7_x0",
        "outputId": "f5b93ef4-ca1c-4ced-f45a-c3a7e6c1d1af"
      },
      "source": [
        "yhat = np.array(list(map(g, X)))\n",
        "y = np.array(list(map(f, X)))\n",
        "train_mse = mean_squared_error(y, yhat)\n",
        "print(f\"Train Mean Square Error: {train_mse:>.3f}\")"
      ],
      "execution_count": null,
      "outputs": [
        {
          "output_type": "stream",
          "name": "stdout",
          "text": [
            "Train Mean Square Error: 41.316\n"
          ]
        }
      ]
    },
    {
      "cell_type": "markdown",
      "metadata": {
        "id": "4jcj_vBE0yml"
      },
      "source": [
        "#Visualize just $g()$"
      ]
    },
    {
      "cell_type": "code",
      "metadata": {
        "pycharm": {
          "name": "#%%\n"
        },
        "colab": {
          "base_uri": "https://localhost:8080/",
          "height": 281
        },
        "id": "s-KIBdZ-7_x1",
        "outputId": "620304d6-deed-4454-f13d-5225c3c6f70c"
      },
      "source": [
        "yhat = np.array(list(map(g, Xi)))\n",
        "plt.title(f'g(x) = {d:>.3f}x + {e:>.3f}')\n",
        "plt.plot(Xi, yhat, color='r')\n",
        "plt.grid()\n",
        "plt.show()"
      ],
      "execution_count": null,
      "outputs": [
        {
          "output_type": "display_data",
          "data": {
            "image/png": "[encoded data removed]",
            "text/plain": [
              "<Figure size 432x288 with 1 Axes>"
            ]
          },
          "metadata": {
            "needs_background": "light"
          }
        }
      ]
    },
    {
      "cell_type": "code",
      "metadata": {
        "pycharm": {
          "name": "#%%\n"
        },
        "id": "7wYhsLyq7_x1"
      },
      "source": [
        "yhat = np.array(list(map(g, Xi)))\n",
        "y = np.array(list(map(f, Xi)))"
      ],
      "execution_count": null,
      "outputs": []
    },
    {
      "cell_type": "markdown",
      "metadata": {
        "id": "3AHiT6xk7L7J"
      },
      "source": [
        "#Overlap $f()$ and $g()$"
      ]
    },
    {
      "cell_type": "code",
      "metadata": {
        "pycharm": {
          "name": "#%%\n"
        },
        "colab": {
          "base_uri": "https://localhost:8080/",
          "height": 281
        },
        "id": "0A52DHvc7_x2",
        "outputId": "a6ae9cad-2cd7-4bd5-f5cf-ff0d1112454e"
      },
      "source": [
        "plt.title(f'Mean Square Error on train: {train_mse:>.3f}')\n",
        "plt.plot(Xi, yhat, color='r', label='Regression line')\n",
        "plt.plot(Xi, y, color='b', label='parabola')\n",
        "plt.grid()\n",
        "plt.legend()\n",
        "plt.show()"
      ],
      "execution_count": null,
      "outputs": [
        {
          "output_type": "display_data",
          "data": {
            "image/png": "[encoded data removed]",
            "text/plain": [
              "<Figure size 432x288 with 1 Axes>"
            ]
          },
          "metadata": {
            "needs_background": "light"
          }
        }
      ]
    },
    {
      "cell_type": "markdown",
      "metadata": {
        "id": "k1l2bDCa7AVp"
      },
      "source": [
        "# Re-define $g$ as a function of $x$,$x^2$"
      ]
    },
    {
      "cell_type": "markdown",
      "metadata": {
        "id": "Azik4u4x8oD7"
      },
      "source": [
        "$g'(x) = g(x,x^2) = a *(x^2) + b*(x) + c$"
      ]
    },
    {
      "cell_type": "code",
      "metadata": {
        "pycharm": {
          "name": "#%%\n"
        },
        "id": "51VIVr837_x3"
      },
      "source": [
        "# Generate D (the data, marked as X)\n",
        "D_size = 5\n",
        "Xi = np.random.uniform(x_range[0], x_range[1], D_size)\n",
        "X = np.zeros((D_size, 2))\n",
        "X[:, 0] = Xi\n",
        "X[:, 1] = Xi ** 2\n",
        "y = np.array(list(map(f, Xi)))"
      ],
      "execution_count": null,
      "outputs": []
    },
    {
      "cell_type": "markdown",
      "metadata": {
        "id": "UUyJdSWC9BC8"
      },
      "source": [
        "Train a linear regression of 2 parameters"
      ]
    },
    {
      "cell_type": "code",
      "metadata": {
        "pycharm": {
          "name": "#%%\n"
        },
        "id": "PDr66QdL7_x3"
      },
      "source": [
        "from sklearn import linear_model"
      ],
      "execution_count": null,
      "outputs": []
    },
    {
      "cell_type": "code",
      "metadata": {
        "pycharm": {
          "name": "#%%\n"
        },
        "id": "kqcoag4h7_x4"
      },
      "source": [
        "regr = linear_model.LinearRegression()\n",
        "_  = regr.fit(X, y)"
      ],
      "execution_count": null,
      "outputs": []
    },
    {
      "cell_type": "code",
      "metadata": {
        "pycharm": {
          "name": "#%%\n"
        },
        "id": "lNb53QNY7_x4"
      },
      "source": [
        "bg, ag = regr.coef_\n",
        "cg = regr.intercept_\n",
        "\n",
        "def g(x):\n",
        "    return (ag * (x ** 2) + bg * x + cg)"
      ],
      "execution_count": null,
      "outputs": []
    },
    {
      "cell_type": "code",
      "metadata": {
        "pycharm": {
          "name": "#%%\n"
        },
        "colab": {
          "base_uri": "https://localhost:8080/"
        },
        "id": "5nq7dw8u7_x4",
        "outputId": "bf08488f-f352-4c98-f31a-1fdaa45a5e58"
      },
      "source": [
        "Xi = np.arange(x_range[0], x_range[1], 0.01)\n",
        "yhat = np.array(list(map(g, Xi)))\n",
        "y = np.array(list(map(f, Xi)))\n",
        "\n",
        "train_mse = mean_squared_error(y, yhat)\n",
        "print(f\"Train Mean Square Error: {train_mse:>.3f}\")"
      ],
      "execution_count": null,
      "outputs": [
        {
          "output_type": "stream",
          "name": "stdout",
          "text": [
            "Train Mean Square Error: 0.000\n"
          ]
        }
      ]
    },
    {
      "cell_type": "markdown",
      "metadata": {
        "id": "CdrOy6Lb9HDh"
      },
      "source": [
        "#Visualize the new $g()$"
      ]
    },
    {
      "cell_type": "code",
      "metadata": {
        "pycharm": {
          "name": "#%%\n"
        },
        "colab": {
          "base_uri": "https://localhost:8080/",
          "height": 281
        },
        "id": "8t8kPBxx7_x5",
        "outputId": "cac692fd-6cad-4213-b544-d37a6c61c274"
      },
      "source": [
        "yhat = np.array(list(map(g, Xi)))\n",
        "plt.title(f'g(x) = ({ag:+>.3f})x^2 + ({bg:+>.3f})x + ({cg:>+.3f})')\n",
        "plt.plot(Xi, yhat, color='r')\n",
        "plt.grid()\n",
        "plt.show()"
      ],
      "execution_count": null,
      "outputs": [
        {
          "output_type": "display_data",
          "data": {
            "image/png": "[encoded data removed]",
            "text/plain": [
              "<Figure size 432x288 with 1 Axes>"
            ]
          },
          "metadata": {
            "needs_background": "light"
          }
        }
      ]
    },
    {
      "cell_type": "markdown",
      "metadata": {
        "id": "sPOjZ4qo9Kaw"
      },
      "source": [
        "#Overlap $f()$ and the new  $g()$"
      ]
    },
    {
      "cell_type": "code",
      "metadata": {
        "pycharm": {
          "name": "#%%\n"
        },
        "colab": {
          "base_uri": "https://localhost:8080/",
          "height": 281
        },
        "id": "ZSoTXwC17_x5",
        "outputId": "2cf67009-e024-46a3-e447-d05eebdf78ab"
      },
      "source": [
        "plt.close('all')\n",
        "plt.title(f'Mean Square Error on train: {train_mse:>.3f}')\n",
        "plt.plot(Xi, yhat, color='r', label='Regression line')\n",
        "plt.plot(Xi, y, color='b', label='parabola')\n",
        "plt.grid()\n",
        "plt.legend()\n",
        "plt.show()"
      ],
      "execution_count": null,
      "outputs": [
        {
          "output_type": "display_data",
          "data": {
            "image/png": "[encoded data removed]",
            "text/plain": [
              "<Figure size 432x288 with 1 Axes>"
            ]
          },
          "metadata": {
            "needs_background": "light"
          }
        }
      ]
    },
    {
      "cell_type": "markdown",
      "source": [
        "# What will happen if we add some noise?"
      ],
      "metadata": {
        "id": "IdIyb2I8GeaX"
      }
    },
    {
      "cell_type": "markdown",
      "source": [
        "The noise the new and noisy $f$ function"
      ],
      "metadata": {
        "id": "vS9bbkc5GiXu"
      }
    },
    {
      "cell_type": "code",
      "source": [
        "def f(x,noise_mu=0,noise_sigma=1):\n",
        "    noise = np.random.normal(loc=noise_mu,scale=noise_sigma)\n",
        "    v = (a * (x ** 2)) + (b * x) + c + noise\n",
        "    return v"
      ],
      "metadata": {
        "id": "jKLmaN3vGj4s"
      },
      "execution_count": null,
      "outputs": []
    },
    {
      "cell_type": "markdown",
      "source": [
        "Plot the noisy function\n"
      ],
      "metadata": {
        "id": "c3tOv1lnHpMY"
      }
    },
    {
      "cell_type": "code",
      "source": [
        "Xi = np.arange(x_range[0], x_range[1], 0.01)\n",
        "y = np.array(list(map(f, Xi)))\n",
        "plt.title(f'f(x) = {a:+}(x^2) {b:+}x {c:+}')\n",
        "plt.plot(Xi, y)\n",
        "plt.grid()\n",
        "plt.show()"
      ],
      "metadata": {
        "colab": {
          "base_uri": "https://localhost:8080/",
          "height": 281
        },
        "id": "1W4QRvfEHFF5",
        "outputId": "07a4cd30-8b0b-4018-9cfe-f11ab1b35802"
      },
      "execution_count": null,
      "outputs": [
        {
          "output_type": "display_data",
          "data": {
            "image/png": "[encoded data removed]",
            "text/plain": [
              "<Figure size 432x288 with 1 Axes>"
            ]
          },
          "metadata": {
            "needs_background": "light"
          }
        }
      ]
    },
    {
      "cell_type": "code",
      "source": [
        "# Generate D (the data, marked as X)\n",
        "D_size = 250\n",
        "Xi = np.random.uniform(x_range[0], x_range[1], D_size)\n",
        "X = np.zeros((D_size, 2))\n",
        "X[:, 0] = Xi\n",
        "X[:, 1] = Xi ** 2\n",
        "y = np.array(list(map(f, Xi)))\n",
        "\n"
      ],
      "metadata": {
        "id": "FigIBSJhH1xg"
      },
      "execution_count": null,
      "outputs": []
    },
    {
      "cell_type": "markdown",
      "source": [
        "Create a new $g'(x) = g(x,x^2) = a *(x^2) + b*(x) + c$.\n",
        "Except, now the y label is noisy because of the new $f$ function"
      ],
      "metadata": {
        "id": "SKRyGltdIbW3"
      }
    },
    {
      "cell_type": "code",
      "source": [
        "regr = linear_model.LinearRegression()\n",
        "_  = regr.fit(X, y)\n",
        "\n",
        "bg, ag = regr.coef_\n",
        "cg = regr.intercept_\n",
        "\n",
        "def g(x):\n",
        "    return (ag * (x ** 2) + bg * x + cg)"
      ],
      "metadata": {
        "id": "wz3MNhGjIXBv"
      },
      "execution_count": null,
      "outputs": []
    },
    {
      "cell_type": "markdown",
      "source": [
        "Measure the MSE"
      ],
      "metadata": {
        "id": "NpeTDH-3KJUw"
      }
    },
    {
      "cell_type": "code",
      "source": [
        "Xi = np.arange(x_range[0], x_range[1], 0.01)\n",
        "yhat = np.array(list(map(g, Xi)))\n",
        "y = np.array(list(map(f, Xi)))\n",
        "\n",
        "train_mse = mean_squared_error(y, yhat)\n",
        "print(f\"Train Mean Square Error: {train_mse:>.3f}\")"
      ],
      "metadata": {
        "colab": {
          "base_uri": "https://localhost:8080/"
        },
        "id": "bZvDYBWoI2dQ",
        "outputId": "c8b19eb4-b7b1-4dab-f227-b9030932110c"
      },
      "execution_count": null,
      "outputs": [
        {
          "output_type": "stream",
          "name": "stdout",
          "text": [
            "Train Mean Square Error: 0.916\n"
          ]
        }
      ]
    },
    {
      "cell_type": "code",
      "source": [
        "plt.close('all')\n",
        "# plt.title(f'Mean Square Error on train: {train_mse:>.3f}')\n",
        "plt.title(f'g(x) = ({ag:+>.3f})x^2 + ({bg:+>.3f})x + ({cg:>+.3f})')\n",
        "plt.plot(Xi, y, color='b', label='Noisy parabola')\n",
        "plt.plot(Xi, yhat, color='r', label='Regression line',linewidth=3.0)\n",
        "plt.grid()\n",
        "plt.legend()\n",
        "plt.show()"
      ],
      "metadata": {
        "colab": {
          "base_uri": "https://localhost:8080/",
          "height": 281
        },
        "id": "e2guEnXTJFh5",
        "outputId": "ade86e66-1f93-49f7-8958-7bfe15360c17"
      },
      "execution_count": null,
      "outputs": [
        {
          "output_type": "display_data",
          "data": {
            "image/png": "[encoded data removed]",
            "text/plain": [
              "<Figure size 432x288 with 1 Axes>"
            ]
          },
          "metadata": {
            "needs_background": "light"
          }
        }
      ]
    },
    {
      "cell_type": "markdown",
      "source": [
        "The resulting regression model is a close match. But the noise causes slight error. \n",
        "\n",
        "If we were to increase the size of D, the dataset - the MSE will decrease as well"
      ],
      "metadata": {
        "id": "n5GBEjThKSX_"
      }
    },
    {
      "cell_type": "markdown",
      "source": [
        "# Comparing the size of the noisy dataset to the size of the error (MSE)"
      ],
      "metadata": {
        "id": "PTG33QYzKqVm"
      }
    },
    {
      "cell_type": "code",
      "source": [
        "sizes = 100\n",
        "bar = range(2,sizes)\n",
        "measures = [0] * len(bar)\n",
        "d_sizes = [0] * len(bar)\n",
        "\n",
        "for idx, D_size in tqdm(enumerate(bar),total=len(bar)):\n",
        "  repeat = 50\n",
        "  reps = [0] * repeat\n",
        "  for repeat_idx in range(repeat):\n",
        "    # Generate D (the data, marked as X)\n",
        "    Xi = np.random.uniform(x_range[0], x_range[1], D_size)\n",
        "    X = np.zeros((D_size, 2))\n",
        "    X[:, 0] = Xi\n",
        "    X[:, 1] = Xi ** 2\n",
        "    y = np.array(list(map(f, Xi)))\n",
        "\n",
        "    regr = linear_model.LinearRegression()\n",
        "    _  = regr.fit(X, y)\n",
        "    bg, ag = regr.coef_\n",
        "    cg = regr.intercept_\n",
        "\n",
        "    def g(x):\n",
        "        return (ag * (x ** 2) + bg * x + cg)\n",
        "\n",
        "    Xi = np.arange(x_range[0], x_range[1], 0.01)\n",
        "    yhat = np.array(list(map(g, Xi)))\n",
        "    y = np.array(list(map(f, Xi)))\n",
        "\n",
        "    train_mse = mean_squared_error(y, yhat)\n",
        "    reps[repeat_idx] = train_mse\n",
        "  train_mse = np.mean(reps)\n",
        "  d_sizes[idx] = D_size\n",
        "  measures[idx] = train_mse"
      ],
      "metadata": {
        "colab": {
          "base_uri": "https://localhost:8080/"
        },
        "id": "eZ1u6-6JKvrJ",
        "outputId": "27980738-9add-4037-9b9f-9f8503407b6f"
      },
      "execution_count": null,
      "outputs": [
        {
          "output_type": "stream",
          "name": "stderr",
          "text": [
            "100%|██████████| 98/98 [00:38<00:00,  2.57it/s]\n"
          ]
        }
      ]
    },
    {
      "cell_type": "code",
      "source": [
        "plt.close('all')\n",
        "plt.title(f'Average MSE compared to dataset size')\n",
        "plt.plot(d_sizes, measures, color='b', label='MSE')\n",
        "plt.xlabel('Size of dataset')\n",
        "plt.ylabel('Averge MSE')\n",
        "plt.ylim(0,10)\n",
        "plt.grid()\n",
        "plt.legend()\n",
        "plt.show()"
      ],
      "metadata": {
        "colab": {
          "base_uri": "https://localhost:8080/",
          "height": 295
        },
        "id": "SRCDlJB_NCaf",
        "outputId": "5f1a6899-0371-4c2f-b638-82b9fb130988"
      },
      "execution_count": null,
      "outputs": [
        {
          "output_type": "display_data",
          "data": {
            "image/png": "[encoded data removed]",
            "text/plain": [
              "<Figure size 432x288 with 1 Axes>"
            ]
          },
          "metadata": {
            "needs_background": "light"
          }
        }
      ]
    }
  ]
}