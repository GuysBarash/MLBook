{
  "nbformat": 4,
  "nbformat_minor": 0,
  "metadata": {
    "kernelspec": {
      "display_name": "Python 3",
      "language": "python",
      "name": "python3"
    },
    "language_info": {
      "codemirror_mode": {
        "name": "ipython",
        "version": 2
      },
      "file_extension": ".py",
      "mimetype": "text/x-python",
      "name": "python",
      "nbconvert_exporter": "python",
      "pygments_lexer": "ipython2",
      "version": "2.7.6"
    },
    "colab": {
      "name": "ex_3_0_2.ipynb",
      "provenance": [],
      "collapsed_sections": [],
      "include_colab_link": true
    }
  },
  "cells": [
    {
      "cell_type": "markdown",
      "metadata": {
        "id": "view-in-github",
        "colab_type": "text"
      },
      "source": [
        "<a href=\"https://colab.research.google.com/github/GuysBarash/MLBook/blob/main/ex_3_0_2.ipynb\" target=\"_parent\"><img src=\"https://colab.research.google.com/assets/colab-badge.svg\" alt=\"Open In Colab\"/></a>"
      ]
    },
    {
      "cell_type": "code",
      "metadata": {
        "collapsed": true,
        "id": "abGz16aDSviX"
      },
      "source": [
        "%matplotlib inline\n",
        "\n",
        "import pandas as pd\n",
        "import numpy as np\n",
        "import matplotlib.pyplot as plt\n",
        "import matplotlib\n",
        "import seaborn as sns\n",
        "\n",
        "from scipy.optimize import minimize_scalar\n",
        "from scipy.stats import beta\n",
        "from scipy.stats import binom\n",
        "from scipy.stats import bernoulli\n",
        "\n",
        "from matplotlib import animation\n",
        "from IPython.display import HTML, clear_output\n",
        "from matplotlib import rc\n",
        "\n",
        "matplotlib.use('Agg')"
      ],
      "execution_count": null,
      "outputs": []
    },
    {
      "cell_type": "markdown",
      "metadata": {
        "id": "_i1VLrkP7pHr"
      },
      "source": [
        "# 3.0.2"
      ]
    },
    {
      "cell_type": "markdown",
      "metadata": {
        "id": "e_TPznbm7rCj"
      },
      "source": [
        "Given a number, x, a function returns x^2 most of the time, i.e., in p percentage of the cases.  Write a test that finds the percentage p."
      ]
    },
    {
      "cell_type": "code",
      "metadata": {
        "pycharm": {
          "name": "#%%\n"
        },
        "id": "iadTlfU8Svig"
      },
      "source": [
        "def foo(x):\n",
        "    p = 0.40\n",
        "    if np.random.uniform(0,1) < p:\n",
        "        return x ** 2\n",
        "    else:\n",
        "        return -1"
      ],
      "execution_count": null,
      "outputs": []
    },
    {
      "cell_type": "code",
      "metadata": {
        "pycharm": {
          "name": "#%%\n"
        },
        "id": "qeOo94a5Svih"
      },
      "source": [
        "iterations = 10000\n",
        "hits = 0\n",
        "for i in range(iterations):\n",
        "    if foo(3) == 9:\n",
        "        # Notice that any number could have been used instead of 3\n",
        "        # 3 is an example and can be replaced.\n",
        "        hits += 1\n",
        "    else:\n",
        "        pass"
      ],
      "execution_count": null,
      "outputs": []
    },
    {
      "cell_type": "code",
      "metadata": {
        "pycharm": {
          "name": "#%%\n"
        },
        "id": "089ZhMY_Svij",
        "outputId": "5e77e660-f5b9-428c-8d9e-7315b843e51e"
      },
      "source": [
        "p_hat = hits / iterations\n",
        "print(f\"Estimation for p: {p_hat:>.3f}\")"
      ],
      "execution_count": null,
      "outputs": [
        {
          "name": "stdout",
          "output_type": "stream",
          "text": [
            "Estimation for p: 0.390\n"
          ]
        }
      ]
    },
    {
      "cell_type": "markdown",
      "metadata": {
        "id": "nyuti3ZO7uZ7"
      },
      "source": [
        " # Question\n",
        " How is that different from a test that checks that a deterministic function correctly evaluates x^2 ?"
      ]
    },
    {
      "cell_type": "markdown",
      "metadata": {
        "id": "zu8B-0m77v6l"
      },
      "source": [
        "# Answer"
      ]
    },
    {
      "cell_type": "markdown",
      "metadata": {
        "collapsed": false,
        "id": "o7lwDThESvir"
      },
      "source": [
        "This function might give a different answer for the SAME results, and therefore repeating the same input is meaningfull."
      ]
    }
  ]
}