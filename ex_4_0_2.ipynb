{
  "nbformat": 4,
  "nbformat_minor": 0,
  "metadata": {
    "colab": {
      "name": "ex_4.0.2.ipynb",
      "provenance": [],
      "authorship_tag": "ABX9TyMonhLJuTWDdHzBHAZFAag+",
      "include_colab_link": true
    },
    "kernelspec": {
      "name": "python3",
      "display_name": "Python 3"
    },
    "language_info": {
      "name": "python"
    }
  },
  "cells": [
    {
      "cell_type": "markdown",
      "metadata": {
        "id": "view-in-github",
        "colab_type": "text"
      },
      "source": [
        "<a href=\"https://colab.research.google.com/github/GuysBarash/MLBook/blob/main/ex_4_0_2.ipynb\" target=\"_parent\"><img src=\"https://colab.research.google.com/assets/colab-badge.svg\" alt=\"Open In Colab\"/></a>"
      ]
    },
    {
      "cell_type": "code",
      "source": [
        "import numpy as np\n",
        "import pandas as pd\n",
        "from scipy.optimize import minimize\n",
        "\n",
        "%matplotlib inline\n",
        "import matplotlib.pyplot as plt"
      ],
      "metadata": {
        "id": "u7E9xSiqbUsF"
      },
      "execution_count": 85,
      "outputs": []
    },
    {
      "cell_type": "markdown",
      "source": [
        "# Define the function to predict"
      ],
      "metadata": {
        "id": "byAMpsVEGaUK"
      }
    },
    {
      "cell_type": "code",
      "execution_count": 86,
      "metadata": {
        "id": "c6YhYJkLaGuD"
      },
      "outputs": [],
      "source": [
        "class F_class:\n",
        "    def __init__(self, a, A, B):\n",
        "        self.a = a\n",
        "        self.A = A\n",
        "        self.B = B\n",
        "\n",
        "    def calc(self, x):\n",
        "        res = np.zeros(x.shape)\n",
        "\n",
        "        bigger_idx = x > self.a\n",
        "        smaller_idx = x <= self.a\n",
        "\n",
        "        res[bigger_idx] = np.power(x[bigger_idx], 2) * self.A\n",
        "        res[smaller_idx] = np.power(x[smaller_idx], 2) * self.B\n",
        "\n",
        "        return res"
      ]
    },
    {
      "cell_type": "markdown",
      "source": [
        "# The nature-given parameters"
      ],
      "metadata": {
        "id": "SbPMvVDkGkFh"
      }
    },
    {
      "cell_type": "code",
      "source": [
        "a = 0\n",
        "A = 1\n",
        "B = -1"
      ],
      "metadata": {
        "id": "S2Rt50TfCvNB"
      },
      "execution_count": 87,
      "outputs": []
    },
    {
      "cell_type": "markdown",
      "source": [
        "The dataset D"
      ],
      "metadata": {
        "id": "77Yp1oQGGptx"
      }
    },
    {
      "cell_type": "code",
      "source": [
        "f = F_class(a, A, B)\n",
        "X = np.arange(-5, 5)\n",
        "Y = f.calc(X)\n",
        "D = pd.DataFrame(columns=['X', 'Y'], data=np.array([X, Y]).T)"
      ],
      "metadata": {
        "id": "eNRaveBPCxiY"
      },
      "execution_count": 88,
      "outputs": []
    },
    {
      "cell_type": "code",
      "source": [
        "D"
      ],
      "metadata": {
        "colab": {
          "base_uri": "https://localhost:8080/",
          "height": 363
        },
        "id": "YNNTc9v4EGDP",
        "outputId": "82b1431c-7bdb-4011-cf63-7e57791bd158"
      },
      "execution_count": 89,
      "outputs": [
        {
          "output_type": "execute_result",
          "data": {
            "text/html": [
              "\n",
              "  <div id=\"df-2743dae5-6f36-4a25-9ac2-19f615fade62\">\n",
              "    <div class=\"colab-df-container\">\n",
              "      <div>\n",
              "<style scoped>\n",
              "    .dataframe tbody tr th:only-of-type {\n",
              "        vertical-align: middle;\n",
              "    }\n",
              "\n",
              "    .dataframe tbody tr th {\n",
              "        vertical-align: top;\n",
              "    }\n",
              "\n",
              "    .dataframe thead th {\n",
              "        text-align: right;\n",
              "    }\n",
              "</style>\n",
              "<table border=\"1\" class=\"dataframe\">\n",
              "  <thead>\n",
              "    <tr style=\"text-align: right;\">\n",
              "      <th></th>\n",
              "      <th>X</th>\n",
              "      <th>Y</th>\n",
              "    </tr>\n",
              "  </thead>\n",
              "  <tbody>\n",
              "    <tr>\n",
              "      <th>0</th>\n",
              "      <td>-5.0</td>\n",
              "      <td>-25.0</td>\n",
              "    </tr>\n",
              "    <tr>\n",
              "      <th>1</th>\n",
              "      <td>-4.0</td>\n",
              "      <td>-16.0</td>\n",
              "    </tr>\n",
              "    <tr>\n",
              "      <th>2</th>\n",
              "      <td>-3.0</td>\n",
              "      <td>-9.0</td>\n",
              "    </tr>\n",
              "    <tr>\n",
              "      <th>3</th>\n",
              "      <td>-2.0</td>\n",
              "      <td>-4.0</td>\n",
              "    </tr>\n",
              "    <tr>\n",
              "      <th>4</th>\n",
              "      <td>-1.0</td>\n",
              "      <td>-1.0</td>\n",
              "    </tr>\n",
              "    <tr>\n",
              "      <th>5</th>\n",
              "      <td>0.0</td>\n",
              "      <td>0.0</td>\n",
              "    </tr>\n",
              "    <tr>\n",
              "      <th>6</th>\n",
              "      <td>1.0</td>\n",
              "      <td>1.0</td>\n",
              "    </tr>\n",
              "    <tr>\n",
              "      <th>7</th>\n",
              "      <td>2.0</td>\n",
              "      <td>4.0</td>\n",
              "    </tr>\n",
              "    <tr>\n",
              "      <th>8</th>\n",
              "      <td>3.0</td>\n",
              "      <td>9.0</td>\n",
              "    </tr>\n",
              "    <tr>\n",
              "      <th>9</th>\n",
              "      <td>4.0</td>\n",
              "      <td>16.0</td>\n",
              "    </tr>\n",
              "  </tbody>\n",
              "</table>\n",
              "</div>\n",
              "      <button class=\"colab-df-convert\" onclick=\"convertToInteractive('df-2743dae5-6f36-4a25-9ac2-19f615fade62')\"\n",
              "              title=\"Convert this dataframe to an interactive table.\"\n",
              "              style=\"display:none;\">\n",
              "        \n",
              "  <svg xmlns=\"http://www.w3.org/2000/svg\" height=\"24px\"viewBox=\"0 0 24 24\"\n",
              "       width=\"24px\">\n",
              "    <path d=\"M0 0h24v24H0V0z\" fill=\"none\"/>\n",
              "    <path d=\"M18.56 5.44l.94 2.06.94-2.06 2.06-.94-2.06-.94-.94-2.06-.94 2.06-2.06.94zm-11 1L8.5 8.5l.94-2.06 2.06-.94-2.06-.94L8.5 2.5l-.94 2.06-2.06.94zm10 10l.94 2.06.94-2.06 2.06-.94-2.06-.94-.94-2.06-.94 2.06-2.06.94z\"/><path d=\"M17.41 7.96l-1.37-1.37c-.4-.4-.92-.59-1.43-.59-.52 0-1.04.2-1.43.59L10.3 9.45l-7.72 7.72c-.78.78-.78 2.05 0 2.83L4 21.41c.39.39.9.59 1.41.59.51 0 1.02-.2 1.41-.59l7.78-7.78 2.81-2.81c.8-.78.8-2.07 0-2.86zM5.41 20L4 18.59l7.72-7.72 1.47 1.35L5.41 20z\"/>\n",
              "  </svg>\n",
              "      </button>\n",
              "      \n",
              "  <style>\n",
              "    .colab-df-container {\n",
              "      display:flex;\n",
              "      flex-wrap:wrap;\n",
              "      gap: 12px;\n",
              "    }\n",
              "\n",
              "    .colab-df-convert {\n",
              "      background-color: #E8F0FE;\n",
              "      border: none;\n",
              "      border-radius: 50%;\n",
              "      cursor: pointer;\n",
              "      display: none;\n",
              "      fill: #1967D2;\n",
              "      height: 32px;\n",
              "      padding: 0 0 0 0;\n",
              "      width: 32px;\n",
              "    }\n",
              "\n",
              "    .colab-df-convert:hover {\n",
              "      background-color: #E2EBFA;\n",
              "      box-shadow: 0px 1px 2px rgba(60, 64, 67, 0.3), 0px 1px 3px 1px rgba(60, 64, 67, 0.15);\n",
              "      fill: #174EA6;\n",
              "    }\n",
              "\n",
              "    [theme=dark] .colab-df-convert {\n",
              "      background-color: #3B4455;\n",
              "      fill: #D2E3FC;\n",
              "    }\n",
              "\n",
              "    [theme=dark] .colab-df-convert:hover {\n",
              "      background-color: #434B5C;\n",
              "      box-shadow: 0px 1px 3px 1px rgba(0, 0, 0, 0.15);\n",
              "      filter: drop-shadow(0px 1px 2px rgba(0, 0, 0, 0.3));\n",
              "      fill: #FFFFFF;\n",
              "    }\n",
              "  </style>\n",
              "\n",
              "      <script>\n",
              "        const buttonEl =\n",
              "          document.querySelector('#df-2743dae5-6f36-4a25-9ac2-19f615fade62 button.colab-df-convert');\n",
              "        buttonEl.style.display =\n",
              "          google.colab.kernel.accessAllowed ? 'block' : 'none';\n",
              "\n",
              "        async function convertToInteractive(key) {\n",
              "          const element = document.querySelector('#df-2743dae5-6f36-4a25-9ac2-19f615fade62');\n",
              "          const dataTable =\n",
              "            await google.colab.kernel.invokeFunction('convertToInteractive',\n",
              "                                                     [key], {});\n",
              "          if (!dataTable) return;\n",
              "\n",
              "          const docLinkHtml = 'Like what you see? Visit the ' +\n",
              "            '<a target=\"_blank\" href=https://colab.research.google.com/notebooks/data_table.ipynb>data table notebook</a>'\n",
              "            + ' to learn more about interactive tables.';\n",
              "          element.innerHTML = '';\n",
              "          dataTable['output_type'] = 'display_data';\n",
              "          await google.colab.output.renderOutput(dataTable, element);\n",
              "          const docLink = document.createElement('div');\n",
              "          docLink.innerHTML = docLinkHtml;\n",
              "          element.appendChild(docLink);\n",
              "        }\n",
              "      </script>\n",
              "    </div>\n",
              "  </div>\n",
              "  "
            ],
            "text/plain": [
              "     X     Y\n",
              "0 -5.0 -25.0\n",
              "1 -4.0 -16.0\n",
              "2 -3.0  -9.0\n",
              "3 -2.0  -4.0\n",
              "4 -1.0  -1.0\n",
              "5  0.0   0.0\n",
              "6  1.0   1.0\n",
              "7  2.0   4.0\n",
              "8  3.0   9.0\n",
              "9  4.0  16.0"
            ]
          },
          "metadata": {},
          "execution_count": 89
        }
      ]
    },
    {
      "cell_type": "markdown",
      "source": [
        "# ML"
      ],
      "metadata": {
        "id": "A35DGKOdGvDo"
      }
    },
    {
      "cell_type": "code",
      "source": [
        "def sum_of_squares(params, X, Y):\n",
        "  a, A, B = params\n",
        "  model = F_class(a, A, B)\n",
        "  y_pred = model.calc(X)\n",
        "  obj = np.sqrt(((y_pred - Y) ** 2).sum())\n",
        "  return obj"
      ],
      "metadata": {
        "id": "WsnLAKenFAE7"
      },
      "execution_count": 90,
      "outputs": []
    },
    {
      "cell_type": "code",
      "source": [
        "# perform fit to find optimal parameters\n",
        "# initial value is a guess\n",
        "initial_guess = [0., 0., 0.]  # a, A, B\n",
        "res = minimize(sum_of_squares, x0=initial_guess, args=(X, Y), tol=1e-5, method=\"Powell\")"
      ],
      "metadata": {
        "id": "MPCHeb1_FJtL"
      },
      "execution_count": 91,
      "outputs": []
    },
    {
      "cell_type": "markdown",
      "source": [
        "# ML evaluation"
      ],
      "metadata": {
        "id": "0vwegLfLG0va"
      }
    },
    {
      "cell_type": "code",
      "source": [
        "a_pred, A_pred, B_pred = res.x\n",
        "model = F_class(a_pred, A_pred, B_pred)\n",
        "Y_pred = model.calc(X)\n",
        "MSE = np.sqrt(((Y_pred - Y) ** 2).sum())"
      ],
      "metadata": {
        "id": "mEutxjPfF_iX"
      },
      "execution_count": 92,
      "outputs": []
    },
    {
      "cell_type": "code",
      "source": [
        "print(\"Estimated values:\")\n",
        "print(f\"a = {a_pred:>.3f}\")\n",
        "print(f\"A = {A_pred:>.3f}\")\n",
        "print(f\"B = {B_pred:>.3f}\")\n",
        "print(f\"MSE: {MSE}\")"
      ],
      "metadata": {
        "colab": {
          "base_uri": "https://localhost:8080/"
        },
        "id": "ENMa1ObsFN7c",
        "outputId": "2cb92de5-c9a8-42aa-e0e5-a703b0d369c4"
      },
      "execution_count": 93,
      "outputs": [
        {
          "output_type": "stream",
          "name": "stdout",
          "text": [
            "Estimated values:\n",
            "a = 0.990\n",
            "A = 1.000\n",
            "B = -1.000\n",
            "MSE: 7.472741870478288e-11\n"
          ]
        }
      ]
    },
    {
      "cell_type": "code",
      "source": [
        "plt.plot(X, Y)\n",
        "plt.plot(X, Y_pred,  'bo')\n",
        "plt.ylim(min(Y), max(Y))\n",
        "plt.xlabel('x')\n",
        "plt.ylabel('Function estimation')\n",
        "plt.axhline(y=a, color='r', linestyle='-')\n",
        "plt.title('f(x)')\n",
        "plt.show()"
      ],
      "metadata": {
        "colab": {
          "base_uri": "https://localhost:8080/",
          "height": 294
        },
        "id": "2Yrrc46XDkz3",
        "outputId": "d1214ea2-5c9b-4ed7-c755-705afef9042d"
      },
      "execution_count": 94,
      "outputs": [
        {
          "output_type": "display_data",
          "data": {
            "image/png": "[encoded data removed]",
            "text/plain": [
              "<Figure size 432x288 with 1 Axes>"
            ]
          },
          "metadata": {
            "needs_background": "light"
          }
        }
      ]
    }
  ]
}