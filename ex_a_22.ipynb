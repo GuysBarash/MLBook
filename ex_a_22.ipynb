{
  "nbformat": 4,
  "nbformat_minor": 0,
  "metadata": {
    "colab": {
      "name": "ex_a_22.ipynb",
      "provenance": [],
      "authorship_tag": "ABX9TyOBbMS8Ezf/EJ6Q41N8Cz9x",
      "include_colab_link": true
    },
    "kernelspec": {
      "name": "python3",
      "display_name": "Python 3"
    },
    "language_info": {
      "name": "python"
    }
  },
  "cells": [
    {
      "cell_type": "markdown",
      "metadata": {
        "id": "view-in-github",
        "colab_type": "text"
      },
      "source": [
        "<a href=\"https://colab.research.google.com/github/GuysBarash/MLBook/blob/main/ex_a_22.ipynb\" target=\"_parent\"><img src=\"https://colab.research.google.com/assets/colab-badge.svg\" alt=\"Open In Colab\"/></a>"
      ]
    },
    {
      "cell_type": "code",
      "execution_count": 19,
      "metadata": {
        "id": "NHy9bxzYkuD8"
      },
      "outputs": [],
      "source": [
        "import numpy as np\n",
        "from scipy.special import comb\n",
        "import matplotlib.pyplot as plt"
      ]
    },
    {
      "cell_type": "code",
      "source": [
        "### Parameters\n",
        "p = 0.01  # Probability of getting a defect\n",
        "n = 1000  # products per batch in production line\n",
        "\n",
        "k = 3  # Threshold for number of defects\n",
        "alpha = 0.01  # likelihood of finding these or more defects"
      ],
      "metadata": {
        "id": "JIUyGz3nk6KE"
      },
      "execution_count": 20,
      "outputs": []
    },
    {
      "cell_type": "code",
      "source": [
        "def prob_of_these_defects(t):\n",
        "    # a function that calculated the probability of seeing exactly t defect in a production line\n",
        "    coef_a = comb(n, t)\n",
        "    coef_b = np.power(p, t)\n",
        "    coef_c = np.power(1.0 - p, n - t)\n",
        "    return coef_a * coef_b * coef_c\n",
        "\n",
        "\n",
        "def prob_of_seeing_more_defects(k):\n",
        "    # a function that calculated the prob of k or more defects\n",
        "    t_vector = [prob_of_these_defects(t) for t in range(k, n + 1)]\n",
        "    t_sum = np.sum(t_vector)\n",
        "    return t_sum\n"
      ],
      "metadata": {
        "id": "87rSE8cClCF7"
      },
      "execution_count": 21,
      "outputs": []
    },
    {
      "cell_type": "code",
      "source": [
        "### Run calculations\n",
        "k_values = list()\n",
        "k_results = list()\n",
        "for k in range(2, int(n / 2)):\n",
        "    likelihood_of_k_defects = prob_of_seeing_more_defects(k)\n",
        "    k_results.append(likelihood_of_k_defects)\n",
        "    k_values.append(k)\n",
        "\n",
        "    if likelihood_of_k_defects < alpha * 0.001:\n",
        "        break  # To save computational effort, when the likelihood drops significantly below alpha, we break"
      ],
      "metadata": {
        "id": "dAkOo06llMrQ"
      },
      "execution_count": 22,
      "outputs": []
    },
    {
      "cell_type": "code",
      "source": [
        "### Find optimal k\n",
        "idx_of_closest = (np.abs(np.asarray(k_results) - alpha)).argmin()\n",
        "optimal_k = k_values[idx_of_closest]\n",
        "optimal_value = k_results[idx_of_closest]"
      ],
      "metadata": {
        "id": "2ek2QDdumY8z"
      },
      "execution_count": 23,
      "outputs": []
    },
    {
      "cell_type": "code",
      "source": [
        "# plot\n",
        "plt.plot(k_values, k_results, 'black', label='k-to-alpha', linewidth=3.5)\n",
        "plt.axhline(y=alpha, color='r', label=f'alpha ({alpha:>.3f})')\n",
        "plt.axvline(x=optimal_k, color='g', label=f'Optimal k ({optimal_k})')\n",
        "\n",
        "plt.title(f'optimal K for desired alpha (n={n},p={p:>.3f})')\n",
        "plt.ylabel('alpha')\n",
        "plt.xlabel('k')\n",
        "plt.legend()\n",
        "plt.show()"
      ],
      "metadata": {
        "colab": {
          "base_uri": "https://localhost:8080/",
          "height": 294
        },
        "id": "Fm9c_7b6lPkB",
        "outputId": "12900741-3fad-4c16-c955-c6d2a427dd4e"
      },
      "execution_count": 31,
      "outputs": [
        {
          "output_type": "display_data",
          "data": {
            "text/plain": [
              "<Figure size 432x288 with 1 Axes>"
            ],
            "image/png": "[encoded data removed]"
          },
          "metadata": {
            "needs_background": "light"
          }
        }
      ]
    }
  ]
}