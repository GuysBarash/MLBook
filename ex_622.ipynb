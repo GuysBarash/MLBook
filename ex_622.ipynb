{
  "nbformat": 4,
  "nbformat_minor": 0,
  "metadata": {
    "colab": {
      "name": "ex_622.ipynb",
      "provenance": [],
      "authorship_tag": "ABX9TyPbWgnQz1z3lN+OEDqpQUz5",
      "include_colab_link": true
    },
    "kernelspec": {
      "name": "python3",
      "display_name": "Python 3"
    },
    "language_info": {
      "name": "python"
    }
  },
  "cells": [
    {
      "cell_type": "markdown",
      "metadata": {
        "id": "view-in-github",
        "colab_type": "text"
      },
      "source": [
        "<a href=\"https://colab.research.google.com/github/GuysBarash/MLBook/blob/main/ex_622.ipynb\" target=\"_parent\"><img src=\"https://colab.research.google.com/assets/colab-badge.svg\" alt=\"Open In Colab\"/></a>"
      ]
    },
    {
      "cell_type": "code",
      "execution_count": 51,
      "metadata": {
        "id": "S8Doq9yrfGTR"
      },
      "outputs": [],
      "source": [
        "%matplotlib inline\n",
        "\n",
        "import numpy as np\n",
        "import pandas as pd\n",
        "import matplotlib.pyplot as plt"
      ]
    },
    {
      "cell_type": "code",
      "source": [
        "# Parameters\n",
        "x_mean = 0\n",
        "x_variance = 1  # This is epsilon, set to epsilon = 1\n",
        "\n",
        "t_mean = 0\n",
        "t_variance = 100\n",
        "\n",
        "z_mean = 0\n",
        "z_variance = 1000\n",
        "\n",
        "n = 10000  # Number of samples"
      ],
      "metadata": {
        "id": "GN5m43j8fOGj"
      },
      "execution_count": 52,
      "outputs": []
    },
    {
      "cell_type": "code",
      "source": [
        "# Generate databases\n",
        "X = np.random.normal(x_mean, x_variance, n)\n",
        "T = np.random.normal(t_mean, t_variance, n)\n",
        "Z = np.random.normal(z_mean, z_variance, n)\n",
        "df = pd.DataFrame(columns=['X', 'T', 'Z'], index=range(n), data=np.array([X, T, Z]).T)"
      ],
      "metadata": {
        "id": "5cl8GjMbfR0z"
      },
      "execution_count": 53,
      "outputs": []
    },
    {
      "cell_type": "code",
      "source": [
        "n_bins = 20\n",
        "fig, axs = plt.subplots(1, 1, sharey=True, tight_layout=True)\n",
        "\n",
        "axs.hist(Z, bins=n_bins,label='Z')\n",
        "axs.hist(T, bins=n_bins,label='T')\n",
        "axs.hist(X, bins=n_bins,label='X')\n",
        "\n",
        "plt.title(\"X, T and Z histogram compared\")\n",
        "plt.legend()\n",
        "plt.show()"
      ],
      "metadata": {
        "colab": {
          "base_uri": "https://localhost:8080/",
          "height": 297
        },
        "id": "Ezc0JGN2fWQL",
        "outputId": "4f52bbc8-c1fd-477f-ba1a-ae227fb69e77"
      },
      "execution_count": 54,
      "outputs": [
        {
          "output_type": "display_data",
          "data": {
            "text/plain": [
              "<Figure size 432x288 with 1 Axes>"
            ],
            "image/png": "[encoded data removed]"
          },
          "metadata": {
            "needs_background": "light"
          }
        }
      ]
    },
    {
      "cell_type": "code",
      "source": [
        "# Create Y = X + T + Z\n",
        "df['Y'] = df.sum(axis=1)\n",
        "\n",
        "# Create Y' = Average(X) + T + Z\n",
        "X_avg = df['X'].sum() / n\n",
        "df['Y\\''] = X_avg + df[['T', 'Z']].sum(axis=1)\n",
        "\n",
        "# Compare Y and Y'\n",
        "Y_diff = df['Y'] - df['Y\\'']"
      ],
      "metadata": {
        "id": "ek8jEuzOgIL-"
      },
      "execution_count": 55,
      "outputs": []
    },
    {
      "cell_type": "code",
      "source": [
        "n_bins = 25\n",
        "fig, axs = plt.subplots(1, 1, sharey=True, tight_layout=False)\n",
        "\n",
        "mx = Y_diff.max()\n",
        "min = Y_diff.min()\n",
        "mean = Y_diff.mean()\n",
        "std = Y_diff.std()\n",
        "\n",
        "msg = f'Y - Y\\'' + '\\n'\n",
        "msg += f'Max diff:       {mx:>.2f}' + '\\n'\n",
        "msg += f'Min diff:       {min:>.2f}' + '\\n'\n",
        "msg += f'Mean of diff: {mean:>.2f}' + '\\n'\n",
        "msg += f'Std of diff:    {std:>.2f}' + '\\n'\n",
        "\n",
        "axs.hist(Y_diff, bins=n_bins)\n",
        "axs.text(5,int(n/15),msg,bbox={'facecolor': 'red', 'alpha': 0.5, 'pad': 10},size=15)\n",
        "\n",
        "plt.title(\"Distribution of Y - Y\\'\")\n",
        "plt.show()"
      ],
      "metadata": {
        "colab": {
          "base_uri": "https://localhost:8080/",
          "height": 281
        },
        "id": "i6nm1OEggS7O",
        "outputId": "488c5fcd-9c89-4d83-f8da-61a2f6a34a92"
      },
      "execution_count": 56,
      "outputs": [
        {
          "output_type": "display_data",
          "data": {
            "text/plain": [
              "<Figure size 432x288 with 1 Axes>"
            ],
            "image/png": "[encoded data removed]"
          },
          "metadata": {
            "needs_background": "light"
          }
        }
      ]
    }
  ]
}